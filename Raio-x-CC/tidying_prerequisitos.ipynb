{
 "cells": [
  {
   "cell_type": "code",
   "execution_count": 1,
   "metadata": {},
   "outputs": [],
   "source": [
    "import pandas as pd\n",
    "import numpy as np\n",
    "import itertools"
   ]
  },
  {
   "cell_type": "code",
   "execution_count": 2,
   "metadata": {},
   "outputs": [],
   "source": [
    "\n",
    "prerequisitos_raw = pd.read_csv('../dados/prerequisitos_raw.csv', delimiter=';')\n",
    "disciplinas = pd.read_csv('../dados/disciplinas.csv', delimiter=';')\n",
    "matriculas =  pd.read_csv('../dados/matriculas.csv', delimiter=';')\n",
    "alunos = pd.read_csv('../dados/alunos.csv', delimiter=';')\n"
   ]
  },
  {
   "cell_type": "code",
   "execution_count": 3,
   "metadata": {},
   "outputs": [],
   "source": [
    "\n",
    "alunos_ativos = alunos.loc[\n",
    "        (alunos['ALU_FORMA_EVASAO'] == 0) &\n",
    "        (alunos['PERIODO_INGRESSAO'] <= 2017.1)\n",
    "    ]\n",
    "\n",
    "mat_alunos_atvs = list(alunos_ativos['ALU_MATRICULA'])\n"
   ]
  },
  {
   "cell_type": "code",
   "execution_count": 4,
   "metadata": {},
   "outputs": [],
   "source": [
    "\n",
    "historico_mat_alunos_atv = matriculas.loc[\n",
    "        (matriculas['MAT_ALU_MATRICULA'].isin(mat_alunos_atvs)) &\n",
    "        (matriculas['PERIODO_MAT'] <= 2017.1)\n",
    "]\n"
   ]
  },
  {
   "cell_type": "code",
   "execution_count": 5,
   "metadata": {},
   "outputs": [],
   "source": [
    "\n",
    "disciplinas_filtered = disciplinas.loc[\n",
    "    (   (disciplinas['DIC_REGRA'] == 'Optativa') | (disciplinas['DIC_REGRA'] == 'Complementar') |\n",
    "        ((disciplinas['DIC_REGRA'] == 'Obrigatoria') & (disciplinas['DIC_STATUS'] == 'A'))\n",
    "    ) & (disciplinas['DIS_DISCIPLINA'].isin(historico_mat_alunos_atv['MAT_TUR_DIS_DISCIPLINA']))    \n",
    "]\n",
    "\n",
    "set_cod_disciplinas = list(set( disciplinas_filtered['DIS_DISCIPLINA'] ))\n"
   ]
  },
  {
   "cell_type": "code",
   "execution_count": 6,
   "metadata": {},
   "outputs": [],
   "source": [
    "\n",
    "disciplina_prerequisitos = dict()\n",
    "col_names = dict((col,index) for index, col in enumerate(list(prerequisitos_raw.columns.values)))\n",
    "\n",
    "for disc, obs in prerequisitos_raw.groupby(['PRD_DIC_DIS_DISCIPLINA']):\n",
    "\n",
    "    discis_ou, discis_e, curr_ou = [], [], []\n",
    "    for row in obs.get_values():\n",
    "                        \n",
    "        if row[col_names['PRD_ORDEM_PRIOR']] == 1:\n",
    "            if row[col_names['PRD_OPERADOR']] == 'E ' or str(row[col_names['PRD_OPERADOR']]) == 'nan':\n",
    "                discis_e.append(row[col_names['PRD_CONDICAO']])\n",
    "            \n",
    "            elif row[col_names['PRD_OPERADOR']] == 'OU':\n",
    "                curr_ou.append(row[col_names['PRD_CONDICAO']])\n",
    "            \n",
    "            ult_operador = row[col_names['PRD_OPERADOR']]\n",
    "            \n",
    "        else:\n",
    "            if ult_operador == 'OU':\n",
    "                curr_ou.append(row[col_names['PRD_CONDICAO']])\n",
    "            \n",
    "            elif ult_operador == 'E ':\n",
    "                # Entao um conjunto de OUs acabou\n",
    "                discis_ou.append(curr_ou)\n",
    "                curr_ou = []\n",
    "                \n",
    "                # Entao eh uma disciplina sozinha que eh prerequisito\n",
    "                if row[col_names['PRD_OPERADOR']] == 'E ':\n",
    "                    discis_e.append(row[col_names['PRD_CONDICAO']])\n",
    "                    \n",
    "                # Entao começa um conjunto de OUs em que pelo menos um eh prerequisito\n",
    "                #   ou é o último prerequisito\n",
    "                else:\n",
    "                    if str(row[col_names['PRD_OPERADOR']]) == 'nan':\n",
    "                        discis_e.append(row[col_names['PRD_CONDICAO']])\n",
    "                    \n",
    "                    else:\n",
    "                        curr_ou.append(row[col_names['PRD_CONDICAO']])\n",
    "                \n",
    "            ult_operador = row[col_names['PRD_OPERADOR']]\n",
    "            \n",
    "    discis_ou.append(curr_ou)\n",
    "    meus_prerequisitos = {'OU': discis_ou, 'E': discis_e}\n",
    "    disciplina_prerequisitos[disc] = meus_prerequisitos\n",
    "      \n",
    "# seria bom depois ver se algum prerequisito de uma disciplina ativa é uma disciplina inativa\n"
   ]
  },
  {
   "cell_type": "code",
   "execution_count": 7,
   "metadata": {},
   "outputs": [],
   "source": [
    "\n",
    "aluno_historico = dict()\n",
    "col_names = dict(\n",
    "    (col, index) for index, col in enumerate(\n",
    "            list(historico_mat_alunos_atv.columns.values)\n",
    "    )\n",
    ")\n",
    "\n",
    "for aluno, obs in historico_mat_alunos_atv.groupby(['MAT_ALU_MATRICULA']):\n",
    "    \n",
    "    meu_historico = []\n",
    "    for row in obs.get_values():\n",
    "        \n",
    "        # Aluno foi aprovado na disciplina\n",
    "        if row[col_names['MAT_SITUACAO']] == 3:\n",
    "            meu_historico.append( row[col_names['MAT_TUR_DIS_DISCIPLINA']] )\n",
    "    \n",
    "    aluno_historico[aluno] = meu_historico\n",
    "    "
   ]
  },
  {
   "cell_type": "code",
   "execution_count": 8,
   "metadata": {},
   "outputs": [],
   "source": [
    "\n",
    "to_data_frame = []\n",
    "\n",
    "for cod_disc in set_cod_disciplinas:\n",
    "    \n",
    "    # Se disciplina não tem pré-requisito\n",
    "    if cod_disc not in disciplina_prerequisitos.keys():\n",
    "        continue\n",
    "        \n",
    "    count_alunos = 0\n",
    "    disc_prerequisito = disciplina_prerequisitos[cod_disc]\n",
    "    nome_disciplina = disciplinas.loc[(disciplinas['DIS_DISCIPLINA'] == cod_disc)]['DIS_DESCRICAO'].values[0]\n",
    "    \n",
    "    for aluno in mat_alunos_atvs:\n",
    "        \n",
    "        aluno_hist = aluno_historico[aluno]\n",
    "        \n",
    "        # Se aluno já pagou cadeira, não faça nada\n",
    "        if cod_disc in aluno_hist:\n",
    "            continue\n",
    "                \n",
    "        # found -> cumpriu todos os pré-requisitos\n",
    "        found = True\n",
    "        \n",
    "        # Se para cada conjunto de disciplinas em que ter pago pelo menos uma é pré-requisito\n",
    "        for ou_list in disc_prerequisito['OU']:\n",
    "            if len(ou_list) > 0:\n",
    "                found = found and any(disciplina_OU in aluno_hist for disciplina_OU in ou_list)\n",
    "        \n",
    "        # Se pagou todas as disciplinas\n",
    "        found = found and all(disciplina_E in aluno_hist for disciplina_E in disc_prerequisito['E'])\n",
    "        \n",
    "        count_alunos = count_alunos + 1 if found else count_alunos\n",
    "        \n",
    "    nome_disciplina = disciplinas.loc[(disciplinas['DIS_DISCIPLINA'] == cod_disc)]['DIS_DESCRICAO'].values[0]\n",
    "    new_row = {'COD_DISCIPLINA': cod_disc, \n",
    "               'NOME_DISCIPLINA': nome_disciplina,\n",
    "               'QNT_ALUNOS_APTOS': count_alunos}\n",
    "    to_data_frame.append(new_row)\n",
    "    "
   ]
  },
  {
   "cell_type": "code",
   "execution_count": 12,
   "metadata": {},
   "outputs": [],
   "source": [
    "\n",
    "df = pd.DataFrame(columns=('COD_DISCIPLINA', 'NOME_DISCIPLINA', 'QNT_ALUNOS_APTOS'))\n",
    "df = pd.DataFrame(to_data_frame)\n",
    "df.to_csv('../dados/disciplinas_qnt_alunos_aptos.csv', index=False)\n"
   ]
  },
  {
   "cell_type": "code",
   "execution_count": null,
   "metadata": {},
   "outputs": [],
   "source": []
  }
 ],
 "metadata": {
  "kernelspec": {
   "display_name": "Python 3",
   "language": "python",
   "name": "python3"
  },
  "language_info": {
   "codemirror_mode": {
    "name": "ipython",
    "version": 3
   },
   "file_extension": ".py",
   "mimetype": "text/x-python",
   "name": "python",
   "nbconvert_exporter": "python",
   "pygments_lexer": "ipython3",
   "version": "3.5.3"
  }
 },
 "nbformat": 4,
 "nbformat_minor": 2
}
